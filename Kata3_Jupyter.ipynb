{
 "cells": [
  {
   "cell_type": "markdown",
   "metadata": {},
   "source": [
    "# EJERCICIO 1"
   ]
  },
  {
   "cell_type": "code",
   "execution_count": null,
   "metadata": {},
   "outputs": [],
   "source": [
    "vel_asteroide = 49\n",
    "if vel_asteroide >= 25:\n",
    "    print(\"ADVERTENCIA: La velocidad del asteroide es mayor a 25 km/s\")\n",
    "else:\n",
    "    print(\"Viene un asteroide a \" + str(vel_asteroide) + \"km/s.\")"
   ]
  },
  {
   "cell_type": "markdown",
   "metadata": {},
   "source": [
    "# EJERCICIO 2"
   ]
  },
  {
   "cell_type": "code",
   "execution_count": null,
   "metadata": {},
   "outputs": [],
   "source": [
    "vel_asteroide = 20\n",
    "if vel_asteroide >= 20:\n",
    "    print(\"Se puede ver un asteroide entrando a la Tierra a una velocidad de \" +\n",
    "          str(vel_asteroide)+\" km/s\")\n",
    "else:\n",
    "    print(\"Viene un asteroide a \" + str(vel_asteroide) +\n",
    "          \"km/s.\"+\" Velocidad insuficiente para ser visible\")"
   ]
  },
  {
   "cell_type": "markdown",
   "metadata": {},
   "source": [
    "# EJERCICIO 3"
   ]
  },
  {
   "cell_type": "code",
   "execution_count": 1,
   "metadata": {},
   "outputs": [
    {
     "name": "stdout",
     "output_type": "stream",
     "text": [
      "No hay riesgo alguno\n"
     ]
    }
   ],
   "source": [
    "vel_asteroide = 19\n",
    "dim_asteroide = 19\n",
    "\n",
    "if dim_asteroide > 25 and vel_asteroide > 25:\n",
    "    print(\"ADVERTENCIA: Viene un asteroide con una dimension de \" +\n",
    "          str(dim_asteroide) + \" metros, a una velocidad de \" + str(vel_asteroide) + \" km/s\")\n",
    "elif vel_asteroide >= 20:\n",
    "    print(\"Será visible un asteroide de \" + str(dim_asteroide) +\n",
    "          \" metros viajando a \" + str(vel_asteroide) + \" km/s.\")\n",
    "elif dim_asteroide < 25:\n",
    "    print(\"No hay riesgo alguno\")\n",
    "else:\n",
    "    print(\"No hay riesgo alguno\")"
   ]
  }
 ],
 "metadata": {
  "interpreter": {
   "hash": "82ce7eda9634ba0f2aa10b621b91b8c70449344c3b3342706f7ea5b1b185a71e"
  },
  "kernelspec": {
   "display_name": "Python 3.9.10 64-bit (windows store)",
   "language": "python",
   "name": "python3"
  },
  "language_info": {
   "codemirror_mode": {
    "name": "ipython",
    "version": 3
   },
   "file_extension": ".py",
   "mimetype": "text/x-python",
   "name": "python",
   "nbconvert_exporter": "python",
   "pygments_lexer": "ipython3",
   "version": "3.9.10"
  },
  "orig_nbformat": 4
 },
 "nbformat": 4,
 "nbformat_minor": 2
}
