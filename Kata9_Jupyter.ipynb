{
 "cells": [
  {
   "cell_type": "markdown",
   "metadata": {},
   "source": [
    "# EJERCICIO 1"
   ]
  },
  {
   "cell_type": "markdown",
   "metadata": {},
   "source": [
    "Comienza por crear una función que necesite tres lecturas de combustible y devuelva un informe:"
   ]
  },
  {
   "cell_type": "code",
   "execution_count": 14,
   "metadata": {},
   "outputs": [],
   "source": [
    "# Función para leer 3 tanques de combustible y muestre el promedio\n",
    "\n",
    "def gas_report(reading1, reading2, reading3):\n",
    "    sum = reading1+reading2+reading3\n",
    "    return sum/3"
   ]
  },
  {
   "cell_type": "markdown",
   "metadata": {},
   "source": [
    "Ahora que hemos definido la función de informes, vamos a comprobarlo. Para esta misión, los tanques no están llenos:"
   ]
  },
  {
   "cell_type": "code",
   "execution_count": 15,
   "metadata": {},
   "outputs": [
    {
     "name": "stdout",
     "output_type": "stream",
     "text": [
      "3.0\n"
     ]
    }
   ],
   "source": [
    "print(gas_report(3,3,3))"
   ]
  },
  {
   "cell_type": "markdown",
   "metadata": {},
   "source": [
    "En lugar de simplemente crear el informe, la función también está calculando el promedio. Mejora la legibilidad extrayendo el cálculo promedio de la función en una nueva función para que el promedio se pueda hacer de forma independiente:"
   ]
  },
  {
   "cell_type": "code",
   "execution_count": 18,
   "metadata": {},
   "outputs": [
    {
     "name": "stdout",
     "output_type": "stream",
     "text": [
      "5.0\n"
     ]
    }
   ],
   "source": [
    "def get_average(data):\n",
    "    sum_data = sum(data)\n",
    "    count_data = len(data)\n",
    "    return sum_data/count_data    \n",
    "\n",
    "\n",
    "print(get_average([5,5,5,5,5,5]))"
   ]
  },
  {
   "cell_type": "markdown",
   "metadata": {},
   "source": [
    "Ahora actualiza la función de informes para llamando a la nueva función del promedio:"
   ]
  },
  {
   "cell_type": "code",
   "execution_count": 25,
   "metadata": {},
   "outputs": [
    {
     "name": "stdout",
     "output_type": "stream",
     "text": [
      " gas #1: 3, gas #2: 3, gas #3: 3 -  average gas: 3.0\n"
     ]
    }
   ],
   "source": [
    "def gas_report(reading1, reading2, reading3):\n",
    "    sum = reading1+reading2+reading3\n",
    "    return f' Gas Report: Tank #1: {reading1}, Tank #2: {reading2}, Tank #3: {reading3} -  Average Tank: {get_average([reading1,reading2,reading3])}'\n",
    "\n",
    "\n",
    "print(gas_report(3,3,3))"
   ]
  },
  {
   "cell_type": "markdown",
   "metadata": {},
   "source": [
    "# EJERCICIO 2"
   ]
  },
  {
   "cell_type": "markdown",
   "metadata": {},
   "source": [
    "Trabajar con argumentos de palabras clave en funciones\n",
    "\n",
    "En este ejercicio, construirás un informe de cohete que requiere varias piezas de información, como el tiempo hasta el destino, el combustible a la izquierda y el nombre del destino. Comienza por crear una función que creará un informe preciso de la misión:"
   ]
  },
  {
   "cell_type": "code",
   "execution_count": 35,
   "metadata": {},
   "outputs": [
    {
     "name": "stdout",
     "output_type": "stream",
     "text": [
      "\n",
      "    - Mission Report -\n",
      "        Total Time of Flight: 220 minutes\n",
      "        Destination: LA \n",
      "        Tank Information: 89 %\n",
      "    \n"
     ]
    }
   ],
   "source": [
    "def mission_report(prelaunch_time, flight_time, destination, external_tank, internal_tank):\n",
    "    return f\"\"\"\n",
    "    - Mission Report -\n",
    "        Total Time of Flight: {prelaunch_time +flight_time} minutes\n",
    "        Destination: {destination} \n",
    "        Tank Information: {external_tank + internal_tank} %\n",
    "    \"\"\"\n",
    "\n",
    "print(mission_report(40, 180, \"LA\", 15, 74))"
   ]
  },
  {
   "cell_type": "markdown",
   "metadata": {},
   "source": [
    "La función es problemática porque no se puede adaptar para minutos adicionales o tanques adicionales de combustible. Hazlo más flexible permitiendo cualquier número de pasos basados en el tiempo y cualquier número de tanques. En lugar de usar `*args` y `**kwargs`, aprovecha el hecho de que puedes usar cualquier nombre que desees. Asegurate que la función sea más legible mediante el uso de nombres de variables que están asociados con las entradas, como `*minutes` y `**fuel_reservoirs`:"
   ]
  },
  {
   "cell_type": "code",
   "execution_count": 40,
   "metadata": {},
   "outputs": [
    {
     "name": "stdout",
     "output_type": "stream",
     "text": [
      "\n",
      "    - Mission Report -\n",
      "        Destination: LA \n",
      "        Total Time of Flight: 220 minutes\n",
      "        Tank Information: 89 %\n",
      "    \n"
     ]
    }
   ],
   "source": [
    "def mission_report(destination, *time, **tank_info):\n",
    "    return f\"\"\"\n",
    "    - Mission Report -\n",
    "        Destination: {destination} \n",
    "        Total Time of Flight: {sum(time)} minutes\n",
    "        Tank Information: {sum(tank_info.values())} %\n",
    "    \"\"\"\n",
    "\n",
    "print(mission_report(\"LA\", 40, 180, external=15,internal=74))"
   ]
  },
  {
   "cell_type": "markdown",
   "metadata": {},
   "source": [
    "Debido a que el combustible que queda en los tanques es específico de cada tanque, actualiza la función para usar el nombre de cada tanque en el informe:"
   ]
  },
  {
   "cell_type": "code",
   "execution_count": 52,
   "metadata": {},
   "outputs": [
    {
     "name": "stdout",
     "output_type": "stream",
     "text": [
      "\n",
      "    - Mission Report -\n",
      "        Destination: LA \n",
      "        Total Time of Flight: 220 minutes\n",
      "        Tank Information: 89 %\n",
      "    \n",
      "            external tank - 15 %\n",
      "        \n",
      "            internal tank - 74 %\n",
      "        \n"
     ]
    }
   ],
   "source": [
    "def mission_report(destination, *time, **tank_info):\n",
    "    mission_details = f\"\"\"\n",
    "    - Mission Report -\n",
    "        Destination: {destination} \n",
    "        Total Time of Flight: {sum(time)} minutes\n",
    "        Tank Information: {sum(tank_info.values())} %\n",
    "    \"\"\"\n",
    "    for tanks, tank_value in tank_info.items():\n",
    "        mission_details += f\"\"\"\n",
    "            {tanks} tank - {tank_value} %\n",
    "        \"\"\"\n",
    "    return mission_details\n",
    "\n",
    "\n",
    "print(mission_report(\"LA\", 40, 180, external=15,internal=74))"
   ]
  }
 ],
 "metadata": {
  "interpreter": {
   "hash": "82ce7eda9634ba0f2aa10b621b91b8c70449344c3b3342706f7ea5b1b185a71e"
  },
  "kernelspec": {
   "display_name": "Python 3.9.10 64-bit (windows store)",
   "language": "python",
   "name": "python3"
  },
  "language_info": {
   "codemirror_mode": {
    "name": "ipython",
    "version": 3
   },
   "file_extension": ".py",
   "mimetype": "text/x-python",
   "name": "python",
   "nbconvert_exporter": "python",
   "pygments_lexer": "ipython3",
   "version": "3.9.10"
  },
  "orig_nbformat": 4
 },
 "nbformat": 4,
 "nbformat_minor": 2
}
